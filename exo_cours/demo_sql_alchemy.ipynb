{
 "cells": [
  {
   "metadata": {
    "collapsed": true,
    "ExecuteTime": {
     "end_time": "2025-04-21T23:18:03.484110Z",
     "start_time": "2025-04-21T23:18:03.376990Z"
    }
   },
   "cell_type": "code",
   "outputs": [],
   "execution_count": 1,
   "source": [
    "\"\"\"\n",
    "Tutoriel SQLAlchemy pour se connecter à une base de données MariaDB\n",
    "et effectuer des opérations CRUD de base.\n",
    "\"\"\"\n",
    "\n",
    "import sqlalchemy as sa\n",
    "from sqlalchemy.ext.declarative import declarative_base\n",
    "from sqlalchemy.orm import sessionmaker\n",
    "from sqlalchemy import inspect\n",
    "from sqlalchemy import text\n"
   ],
   "id": "initial_id"
  },
  {
   "metadata": {
    "ExecuteTime": {
     "end_time": "2025-04-21T23:18:03.687006Z",
     "start_time": "2025-04-21T23:18:03.684936Z"
    }
   },
   "cell_type": "code",
   "outputs": [],
   "execution_count": 2,
   "source": [
    "# Configuration de la connexion\n",
    "# Remplacez 'prenom' par votre prénom et 'date_de_naissance' par votre date de naissance\n",
    "# Format recommandé pour la date de naissance: AAAAMMJJ ou le format spécifié par l'administrateur\n",
    "username = 'kevin'  # Remplacez par votre prénom\n",
    "password = '18/02/1989'  # Remplacez par votre date de naissance\n",
    "host = 'beta-seed.unistra.fr'\n",
    "port = '3306'\n",
    "database = 'notation'"
   ],
   "id": "ac5933d6e3f25d21"
  },
  {
   "metadata": {
    "ExecuteTime": {
     "end_time": "2025-04-21T23:32:41.285725Z",
     "start_time": "2025-04-21T23:32:41.283506Z"
    }
   },
   "cell_type": "code",
   "source": [
    "# Créer l'URL de connexion\n",
    "connection_url = f'mysql+pymysql://{username}:{password}@{host}:{port}/{database}'\n",
    "# Créer un moteur SQLAlchemy\n",
    "engine = sa.create_engine(connection_url)  # echo=True affiche les requêtes SQL exécutées"
   ],
   "id": "9f4121146c21e75a",
   "outputs": [],
   "execution_count": 21
  },
  {
   "metadata": {
    "ExecuteTime": {
     "end_time": "2025-04-21T23:32:42.788323Z",
     "start_time": "2025-04-21T23:32:41.957886Z"
    }
   },
   "cell_type": "code",
   "source": [
    "connection = engine.connect()\n",
    "inspector = inspect(engine)\n",
    "table_names = inspector.get_table_names()\n",
    "table_names"
   ],
   "id": "2983330e0cab78ca",
   "outputs": [
    {
     "data": {
      "text/plain": [
       "['cours', 'etudiants', 'inscriptions', 'log_actions', 'notes', 'projet']"
      ]
     },
     "execution_count": 22,
     "metadata": {},
     "output_type": "execute_result"
    }
   ],
   "execution_count": 22
  },
  {
   "metadata": {
    "ExecuteTime": {
     "end_time": "2025-04-21T23:32:43.402124Z",
     "start_time": "2025-04-21T23:32:43.328269Z"
    }
   },
   "cell_type": "code",
   "source": [
    "table_name = 'etudiants'\n",
    "columns = inspector.get_columns(table_name)\n",
    "print(f\"  Colonnes dans {table_name}:\")\n",
    "for column in columns:\n",
    "    print(f\"    - {column['name']} ({column['type']})\")"
   ],
   "id": "33398120f27d24ef",
   "outputs": [
    {
     "name": "stdout",
     "output_type": "stream",
     "text": [
      "  Colonnes dans etudiants:\n",
      "    - id (INTEGER)\n",
      "    - nom (VARCHAR(50))\n",
      "    - prenom (VARCHAR(50))\n",
      "    - email (VARCHAR(50))\n"
     ]
    }
   ],
   "execution_count": 23
  },
  {
   "metadata": {
    "ExecuteTime": {
     "end_time": "2025-04-21T23:33:12.864330Z",
     "start_time": "2025-04-21T23:33:12.788620Z"
    }
   },
   "cell_type": "code",
   "source": [
    "# SELECT\n",
    "query = \"\"\"\n",
    "        SELECT *\n",
    "        FROM etudiants; \\\n",
    "        \"\"\"\n",
    "\n",
    "# execute() - Exécute une requête SQL et retourne un curseur pour récupérer les résultats\n",
    "# fetchall() - Récupère toutes les lignes restantes d'un résultat de requête sous forme de liste de tuples\n",
    "# fetchone() - Récupère la prochaine ligne du résultat sous forme de tuple, retourne None s'il n'y en a plus\n",
    "\n",
    "with engine.connect() as connection:\n",
    "    result_cursor = connection.execute(text(query))\n",
    "    # Le résultat est un objet CursorResult qui contient les lignes de résultats\n",
    "    # Chaque ligne est un objet Row qui peut être traité comme un tuple ou un dictionnaire\n",
    "\n",
    "results = result_cursor.fetchall()  # Récupère toutes les lignes\n",
    "print(f\"{type(results)=}\")\n",
    "print(f\"{results=}\")\n",
    "\n"
   ],
   "id": "86f8b4519e1e1fe",
   "outputs": [
    {
     "name": "stdout",
     "output_type": "stream",
     "text": [
      "type(results)=<class 'list'>\n",
      "results=[(4, 'Michoud', 'Kevin', 'kmichoud@unistra.fr'), (5, 'Michoud', 'Sacha', 'too_young_for_email@email.com'), (9, 'MICHOUD', 'Helen', 'her_email@email.com'), (10, 'MICHOUD', 'Helen', 'her_email@email.com')]\n"
     ]
    }
   ],
   "execution_count": 26
  },
  {
   "metadata": {
    "ExecuteTime": {
     "end_time": "2025-04-21T23:32:55.425354Z",
     "start_time": "2025-04-21T23:32:55.306344Z"
    }
   },
   "cell_type": "code",
   "source": [
    "# INSERT\n",
    "query = \"\"\"\n",
    "        INSERT INTO etudiants (nom, prenom, email)\n",
    "        VALUES ('MICHOUD', 'Helen', 'her_email@email.com') \\\n",
    "        \"\"\"\n",
    "with engine.connect() as connection:\n",
    "    result = connection.execute(text(query))\n",
    "    # IF connect, we need to commit the changes\n",
    "    connection.commit()  # Add commit to persist the changes\n",
    "\n"
   ],
   "id": "149254fe0791da72",
   "outputs": [
    {
     "name": "stdout",
     "output_type": "stream",
     "text": [
      "<sqlalchemy.engine.cursor.CursorResult object at 0x7f7eed382900>\n"
     ]
    }
   ],
   "execution_count": 25
  },
  {
   "metadata": {
    "ExecuteTime": {
     "end_time": "2025-04-21T23:33:24.795522Z",
     "start_time": "2025-04-21T23:33:24.683514Z"
    }
   },
   "cell_type": "code",
   "source": [
    "# DELETE FROM\n",
    "query = \"\"\"\n",
    "DELETE FROM etudiants WHERE prenom='Helen' and nom='MICHOUD';\n",
    "\"\"\"\n",
    "with engine.begin() as connection:\n",
    "    # If begin, we don't need to commit the changes'\n",
    "    result = connection.execute(text(query))\n"
   ],
   "id": "2f549cc1fecdf15f",
   "outputs": [],
   "execution_count": 27
  },
  {
   "metadata": {
    "ExecuteTime": {
     "end_time": "2025-04-21T23:33:27.929337Z",
     "start_time": "2025-04-21T23:33:27.819419Z"
    }
   },
   "cell_type": "code",
   "source": [
    "# UPDATE\n",
    "query = \"\"\"\n",
    "UPDATE etudiants\n",
    "SET prenom='Sacha' WHERE id= '5';\n",
    "\"\"\"\n",
    "with engine.begin() as connection:\n",
    "    result = connection.execute(text(query))"
   ],
   "id": "232f718f449780ca",
   "outputs": [],
   "execution_count": 28
  },
  {
   "metadata": {},
   "cell_type": "code",
   "outputs": [],
   "execution_count": null,
   "source": [
    "# Définition des anciens et nouveaux domaines emails\n",
    "old_email = \"email.com\"  # Le domaine email qu'on veut remplacer\n",
    "new_email = \"google.com\"  # Le nouveau domaine email\n",
    "\n",
    "# Création d'une requête SQL paramétrée pour mettre à jour les emails\n",
    "query = text(\"\"\"\n",
    "             UPDATE etudiants # Met à jour la table étudiants\n",
    "             SET email = REPLACE(email, : old, : new) # Remplace l ancien domaine par le nouveau\n",
    "WHERE email LIKE :email_pattern                     # Filtre les emails qui contiennent l ancien domaine\n",
    "             \"\"\")  # Les :old, :new sont des paramètres qui seront remplis plus tard\n",
    "\n",
    "# Exécution de la requête avec une connexion automatiquement fermée\n",
    "with engine.begin() as connection:  # Ouvre une connexion à la base de données\n",
    "    result = connection.execute(query,  # Exécute la requête SQL\n",
    "                                {\"old\": old_email,  # Paramètre pour l'ancien domaine\n",
    "                                 \"new\": new_email,  # Paramètre pour le nouveau domaine\n",
    "                                 \"email_pattern\": f\"%{old_email}\"})  # Crée le motif de recherche\n",
    "    print(f\"Number of rows updated: {result.rowcount}\")  # Affiche le nombre de lignes modifiées\n"
   ],
   "id": "f76867a42b26861d"
  },
  {
   "metadata": {
    "ExecuteTime": {
     "end_time": "2025-04-21T23:34:13.770355Z",
     "start_time": "2025-04-21T23:34:13.507534Z"
    }
   },
   "cell_type": "code",
   "source": [
    "import pandas as pd\n",
    "\n",
    "df = pd.read_sql_table(\"etudiants\", engine)\n",
    "df"
   ],
   "id": "2792d3df6e027742",
   "outputs": [
    {
     "data": {
      "text/plain": [
       "   id      nom prenom                          email\n",
       "0   4  Michoud  Kevin            kmichoud@unistra.fr\n",
       "1   5  Michoud  Sacha  too_young_for_email@email.com"
      ],
      "text/html": [
       "<div>\n",
       "<style scoped>\n",
       "    .dataframe tbody tr th:only-of-type {\n",
       "        vertical-align: middle;\n",
       "    }\n",
       "\n",
       "    .dataframe tbody tr th {\n",
       "        vertical-align: top;\n",
       "    }\n",
       "\n",
       "    .dataframe thead th {\n",
       "        text-align: right;\n",
       "    }\n",
       "</style>\n",
       "<table border=\"1\" class=\"dataframe\">\n",
       "  <thead>\n",
       "    <tr style=\"text-align: right;\">\n",
       "      <th></th>\n",
       "      <th>id</th>\n",
       "      <th>nom</th>\n",
       "      <th>prenom</th>\n",
       "      <th>email</th>\n",
       "    </tr>\n",
       "  </thead>\n",
       "  <tbody>\n",
       "    <tr>\n",
       "      <th>0</th>\n",
       "      <td>4</td>\n",
       "      <td>Michoud</td>\n",
       "      <td>Kevin</td>\n",
       "      <td>kmichoud@unistra.fr</td>\n",
       "    </tr>\n",
       "    <tr>\n",
       "      <th>1</th>\n",
       "      <td>5</td>\n",
       "      <td>Michoud</td>\n",
       "      <td>Sacha</td>\n",
       "      <td>too_young_for_email@email.com</td>\n",
       "    </tr>\n",
       "  </tbody>\n",
       "</table>\n",
       "</div>"
      ]
     },
     "execution_count": 30,
     "metadata": {},
     "output_type": "execute_result"
    }
   ],
   "execution_count": 30
  },
  {
   "metadata": {},
   "cell_type": "code",
   "outputs": [],
   "source": "",
   "id": "7c3b45a0ad84b51b",
   "execution_count": null
  }
 ],
 "metadata": {
  "kernelspec": {
   "display_name": "Python 3",
   "language": "python",
   "name": "python3"
  },
  "language_info": {
   "codemirror_mode": {
    "name": "ipython",
    "version": 2
   },
   "file_extension": ".py",
   "mimetype": "text/x-python",
   "name": "python",
   "nbconvert_exporter": "python",
   "pygments_lexer": "ipython2",
   "version": "2.7.6"
  }
 },
 "nbformat": 4,
 "nbformat_minor": 5
}
